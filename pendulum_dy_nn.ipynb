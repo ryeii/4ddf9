{
 "cells": [
  {
   "cell_type": "code",
   "execution_count": 1,
   "metadata": {},
   "outputs": [
    {
     "name": "stderr",
     "output_type": "stream",
     "text": [
      "/tmp/ipykernel_2028332/625961728.py:34: UserWarning: Creating a tensor from a list of numpy.ndarrays is extremely slow. Please consider converting the list to a single numpy.ndarray with numpy.array() before converting to a tensor. (Triggered internally at ../torch/csrc/utils/tensor_new.cpp:245.)\n",
      "  loss = criterion(prediction, torch.tensor([next_state]))\n",
      "/home/ubuntu20/anaconda3/envs/zhiyu39/lib/python3.9/site-packages/torch/nn/modules/loss.py:536: UserWarning: Using a target size (torch.Size([1, 3])) that is different to the input size (torch.Size([1])). This will likely lead to incorrect results due to broadcasting. Please ensure they have the same size.\n",
      "  return F.mse_loss(input, target, reduction=self.reduction)\n"
     ]
    },
    {
     "name": "stdout",
     "output_type": "stream",
     "text": [
      "Episode 0 loss: 4.495254039764404\n",
      "Episode 100 loss: 4.614873886108398\n",
      "Episode 200 loss: 1.134900450706482\n",
      "Episode 300 loss: 0.4133876860141754\n",
      "Episode 400 loss: 7.085317611694336\n",
      "Episode 500 loss: 0.7261953353881836\n",
      "Episode 600 loss: 2.851944923400879\n",
      "Episode 700 loss: 0.9713754653930664\n",
      "Episode 800 loss: 0.6043438911437988\n",
      "Episode 900 loss: 6.1749725341796875\n"
     ]
    }
   ],
   "source": [
    "import gym\n",
    "import torch\n",
    "import torch.nn as nn\n",
    "import torch.optim as optim\n",
    "import numpy as np\n",
    "\n",
    "env = gym.make('Pendulum-v1')\n",
    "\n",
    "class Net(nn.Module):\n",
    "    def __init__(self):\n",
    "        super().__init__()\n",
    "        self.fc1 = nn.Linear(4, 64)\n",
    "        self.fc2 = nn.Linear(64, 32)\n",
    "        self.fc3 = nn.Linear(32, 1)\n",
    "    \n",
    "    def forward(self, x):\n",
    "        x = torch.relu(self.fc1(x))\n",
    "        x = torch.relu(self.fc2(x))\n",
    "        x = self.fc3(x)\n",
    "        return x\n",
    "\n",
    "model = Net()\n",
    "criterion = nn.MSELoss()\n",
    "optimizer = optim.Adam(model.parameters(), lr=0.001)\n",
    "\n",
    "for episode in range(1000):\n",
    "    state = env.reset()\n",
    "    done = False\n",
    "    while not done:\n",
    "        action = np.random.uniform(low=-2.0, high=2.0)\n",
    "        state_action = np.append(state, action)\n",
    "        next_state, reward, done, _ = env.step([action])\n",
    "        prediction = model(torch.tensor(state_action, dtype=torch.float32))\n",
    "        loss = criterion(prediction, torch.tensor([next_state]))\n",
    "        optimizer.zero_grad()\n",
    "        loss.backward()\n",
    "        optimizer.step()\n",
    "        state = next_state\n",
    "\n",
    "    if episode % 100 == 0:\n",
    "        print(f'Episode {episode} loss: {loss.item()}')"
   ]
  },
  {
   "cell_type": "code",
   "execution_count": null,
   "metadata": {},
   "outputs": [],
   "source": []
  }
 ],
 "metadata": {
  "kernelspec": {
   "display_name": "zhiyu39",
   "language": "python",
   "name": "python3"
  },
  "language_info": {
   "codemirror_mode": {
    "name": "ipython",
    "version": 3
   },
   "file_extension": ".py",
   "mimetype": "text/x-python",
   "name": "python",
   "nbconvert_exporter": "python",
   "pygments_lexer": "ipython3",
   "version": "3.9.16"
  },
  "orig_nbformat": 4,
  "vscode": {
   "interpreter": {
    "hash": "210d99c3fa445973a1a9dbd666f41525256243834c70425bd71fc0f1f877f877"
   }
  }
 },
 "nbformat": 4,
 "nbformat_minor": 2
}
