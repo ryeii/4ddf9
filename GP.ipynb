{
 "cells": [
  {
   "cell_type": "code",
   "execution_count": null,
   "metadata": {},
   "outputs": [],
   "source": [
    "import torch\n",
    "import gpytorch\n",
    "import numpy as np\n",
    "import gym\n",
    "\n",
    "class GPModel(gpytorch.models.ExactGP):\n",
    "    \"\"\"\n",
    "    Gaussian process model for the dynamics of the Pendulum-v1 environment in OpenAI Gym.\n",
    "    \"\"\"\n",
    "    \n",
    "    def __init__(self, train_x, train_y, likelihood):\n",
    "        super(GPModel, self).__init__(train_x, train_y, likelihood)\n",
    "        self.mean_module = gpytorch.means.ConstantMean()\n",
    "        self.covar_module = gpytorch.kernels.ScaleKernel(gpytorch.kernels.RBFKernel())\n",
    "\n",
    "    def forward(self, x):\n",
    "        mean_x = self.mean_module(x)\n",
    "        covar_x = self.covar_module(x)\n",
    "        return gpytorch.distributions.MultivariateNormal(mean_x, covar_x)\n",
    "\n",
    "def train_gp_model(env, train_horizon, n_train):\n",
    "    \"\"\"\n",
    "    Trains a GP model for the dynamics of the Pendulum-v1 environment in OpenAI Gym using GPytorch.\n",
    "    \n",
    "    Args:\n",
    "    - env (gym.Env): the Pendulum-v1 environment in OpenAI Gym\n",
    "    - train_horizon (int): the number of timesteps in the training horizon\n",
    "    - n_train (int): the number of training trajectories to generate\n",
    "    \n",
    "    Returns:\n",
    "    - gp_model (GPModel): the trained GP model\n",
    "    \"\"\"\n",
    "    \n",
    "    # Generate training data\n",
    "    train_x = []\n",
    "    train_y = []\n",
    "    for i in range(n_train):\n",
    "        state = env.reset()\n",
    "        for t in range(train_horizon):\n",
    "            action = env.action_space.sample()\n",
    "            next_state, _, _, _ = env.step(action)\n",
    "            train_x.append(np.hstack([state, action]))\n",
    "            train_y.append(next_state - state)\n",
    "            state = next_state\n",
    "    train_x = torch.tensor(train_x).float()\n",
    "    train_y = torch.tensor(train_y).float()\n",
    "    \n",
    "    # Initialize the likelihood and the model\n",
    "    likelihood = gpytorch.likelihoods.GaussianLikelihood()\n",
    "    gp_model = GPModel(train_x, train_y, likelihood)\n",
    "    \n",
    "    # Train the model\n",
    "    gp_model.train()\n",
    "    likelihood.train()\n",
    "    optimizer = torch.optim.Adam(gp_model.parameters(), lr=0.1)\n",
    "    mll = gpytorch.mlls.ExactMarginalLogLikelihood(likelihood, gp_model)\n",
    "    num_epochs = 100\n",
    "    for i in range(num_epochs):\n",
    "        optimizer.zero_grad()\n",
    "        output = gp_model(train_x)\n",
    "        loss = -mll(output, train_y)\n",
    "        loss.backward()\n",
    "        optimizer.step()\n",
    "    \n",
    "    return gp_model\n"
   ]
  }
 ],
 "metadata": {
  "kernelspec": {
   "display_name": "Python 3",
   "language": "python",
   "name": "python3"
  },
  "language_info": {
   "name": "python",
   "version": "3.9.5"
  },
  "orig_nbformat": 4,
  "vscode": {
   "interpreter": {
    "hash": "916dbcbb3f70747c44a77c7bcd40155683ae19c65e1c03b4aa3499c5328201f1"
   }
  }
 },
 "nbformat": 4,
 "nbformat_minor": 2
}
