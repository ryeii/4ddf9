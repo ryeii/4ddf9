{
 "cells": [
  {
   "cell_type": "code",
   "execution_count": 17,
   "metadata": {},
   "outputs": [],
   "source": [
    "import torch\n",
    "import gpytorch\n",
    "import numpy as np\n",
    "import gym\n",
    "\n",
    "class GPModel(gpytorch.models.ExactGP):\n",
    "    \"\"\"\n",
    "    Gaussian process model for the dynamics of the Pendulum-v1 environment in OpenAI Gym.\n",
    "    \"\"\"\n",
    "    \n",
    "    def __init__(self, train_x, train_y, likelihood):\n",
    "        super(GPModel, self).__init__(train_x, train_y, likelihood)\n",
    "        self.mean_module = gpytorch.means.ConstantMean()\n",
    "        self.covar_module = gpytorch.kernels.ScaleKernel(gpytorch.kernels.RBFKernel())\n",
    "\n",
    "    def forward(self, x):\n",
    "        mean_x = self.mean_module(x)\n",
    "        covar_x = self.covar_module(x)\n",
    "        return gpytorch.distributions.MultitaskMultivariateNormal.from_batch_mvn(gpytorch.distributions.MultivariateNormal(mean_x, covar_x))\n",
    "\n",
    "def train_gp_model(env, train_horizon, n_train):\n",
    "    \"\"\"\n",
    "    Trains a GP model for the dynamics of the Pendulum-v1 environment in OpenAI Gym using GPytorch.\n",
    "    \n",
    "    Args:\n",
    "    - env (gym.Env): the Pendulum-v1 environment in OpenAI Gym\n",
    "    - train_horizon (int): the number of timesteps in the training horizon\n",
    "    - n_train (int): the number of training trajectories to generate\n",
    "    \n",
    "    Returns:\n",
    "    - gp_model (GPModel): the trained GP model\n",
    "    \"\"\"\n",
    "    \n",
    "    # Generate training data\n",
    "    train_x = []\n",
    "    train_y = []\n",
    "    for i in range(n_train):\n",
    "        state = env.reset()\n",
    "        for t in range(train_horizon):\n",
    "            action = env.action_space.sample()\n",
    "            next_state, _, _, _ = env.step(action)\n",
    "            train_x.append(np.hstack([state, action]))\n",
    "            train_y.append(next_state - state)\n",
    "            state = next_state\n",
    "    train_x = torch.tensor(train_x).float()\n",
    "    train_y = torch.tensor(train_y).float()\n",
    "    \n",
    "    print(train_x.shape)\n",
    "    print(train_y.shape)\n",
    "    \n",
    "    # Initialize the likelihood and the model\n",
    "    likelihood = gpytorch.likelihoods.MultitaskGaussianLikelihood(num_tasks=3)\n",
    "    gp_model = GPModel(train_x, train_y, likelihood)\n",
    "    \n",
    "    # Train the model\n",
    "    gp_model.train()\n",
    "    likelihood.train()\n",
    "    optimizer = torch.optim.Adam(gp_model.parameters(), lr=0.1)\n",
    "    mll = gpytorch.mlls.ExactMarginalLogLikelihood(likelihood, gp_model)\n",
    "    num_epochs = 100\n",
    "    for i in range(num_epochs):\n",
    "        optimizer.zero_grad()\n",
    "        output = gp_model(train_x)\n",
    "        loss = -mll(output, train_y)\n",
    "        loss.backward()\n",
    "        optimizer.step()\n",
    "    \n",
    "    return gp_model\n"
   ]
  },
  {
   "cell_type": "code",
   "execution_count": 18,
   "metadata": {},
   "outputs": [
    {
     "name": "stdout",
     "output_type": "stream",
     "text": [
      "torch.Size([1000, 4])\n",
      "torch.Size([1000, 3])\n"
     ]
    },
    {
     "ename": "ValueError",
     "evalue": "task_dim of -1 is incompatible with MVN batch shape of torch.Size([])",
     "output_type": "error",
     "traceback": [
      "\u001b[0;31m---------------------------------------------------------------------------\u001b[0m",
      "\u001b[0;31mValueError\u001b[0m                                Traceback (most recent call last)",
      "Cell \u001b[0;32mIn[18], line 5\u001b[0m\n\u001b[1;32m      2\u001b[0m horizon \u001b[39m=\u001b[39m \u001b[39m10\u001b[39m\n\u001b[1;32m      3\u001b[0m n_samples \u001b[39m=\u001b[39m \u001b[39m100\u001b[39m\n\u001b[0;32m----> 5\u001b[0m gp \u001b[39m=\u001b[39m train_gp_model(env, horizon, n_samples)\n\u001b[1;32m      7\u001b[0m \u001b[39m# save model\u001b[39;00m\n\u001b[1;32m      8\u001b[0m torch\u001b[39m.\u001b[39msave(gp\u001b[39m.\u001b[39mstate_dict(), \u001b[39m'\u001b[39m\u001b[39mgp_model.pth\u001b[39m\u001b[39m'\u001b[39m)\n",
      "Cell \u001b[0;32mIn[17], line 63\u001b[0m, in \u001b[0;36mtrain_gp_model\u001b[0;34m(env, train_horizon, n_train)\u001b[0m\n\u001b[1;32m     61\u001b[0m \u001b[39mfor\u001b[39;00m i \u001b[39min\u001b[39;00m \u001b[39mrange\u001b[39m(num_epochs):\n\u001b[1;32m     62\u001b[0m     optimizer\u001b[39m.\u001b[39mzero_grad()\n\u001b[0;32m---> 63\u001b[0m     output \u001b[39m=\u001b[39m gp_model(train_x)\n\u001b[1;32m     64\u001b[0m     loss \u001b[39m=\u001b[39m \u001b[39m-\u001b[39mmll(output, train_y)\n\u001b[1;32m     65\u001b[0m     loss\u001b[39m.\u001b[39mbackward()\n",
      "File \u001b[0;32m~/anaconda3/envs/zhiyu39/lib/python3.9/site-packages/gpytorch/models/exact_gp.py:258\u001b[0m, in \u001b[0;36mExactGP.__call__\u001b[0;34m(self, *args, **kwargs)\u001b[0m\n\u001b[1;32m    256\u001b[0m         \u001b[39mif\u001b[39;00m \u001b[39mnot\u001b[39;00m \u001b[39mall\u001b[39m(torch\u001b[39m.\u001b[39mequal(train_input, \u001b[39minput\u001b[39m) \u001b[39mfor\u001b[39;00m train_input, \u001b[39minput\u001b[39m \u001b[39min\u001b[39;00m \u001b[39mzip\u001b[39m(train_inputs, inputs)):\n\u001b[1;32m    257\u001b[0m             \u001b[39mraise\u001b[39;00m \u001b[39mRuntimeError\u001b[39;00m(\u001b[39m\"\u001b[39m\u001b[39mYou must train on the training inputs!\u001b[39m\u001b[39m\"\u001b[39m)\n\u001b[0;32m--> 258\u001b[0m     res \u001b[39m=\u001b[39m \u001b[39msuper\u001b[39;49m()\u001b[39m.\u001b[39;49m\u001b[39m__call__\u001b[39;49m(\u001b[39m*\u001b[39;49minputs, \u001b[39m*\u001b[39;49m\u001b[39m*\u001b[39;49mkwargs)\n\u001b[1;32m    259\u001b[0m     \u001b[39mreturn\u001b[39;00m res\n\u001b[1;32m    261\u001b[0m \u001b[39m# Prior mode\u001b[39;00m\n",
      "File \u001b[0;32m~/anaconda3/envs/zhiyu39/lib/python3.9/site-packages/gpytorch/module.py:30\u001b[0m, in \u001b[0;36mModule.__call__\u001b[0;34m(self, *inputs, **kwargs)\u001b[0m\n\u001b[1;32m     29\u001b[0m \u001b[39mdef\u001b[39;00m \u001b[39m__call__\u001b[39m(\u001b[39mself\u001b[39m, \u001b[39m*\u001b[39minputs, \u001b[39m*\u001b[39m\u001b[39m*\u001b[39mkwargs):\n\u001b[0;32m---> 30\u001b[0m     outputs \u001b[39m=\u001b[39m \u001b[39mself\u001b[39;49m\u001b[39m.\u001b[39;49mforward(\u001b[39m*\u001b[39;49minputs, \u001b[39m*\u001b[39;49m\u001b[39m*\u001b[39;49mkwargs)\n\u001b[1;32m     31\u001b[0m     \u001b[39mif\u001b[39;00m \u001b[39misinstance\u001b[39m(outputs, \u001b[39mlist\u001b[39m):\n\u001b[1;32m     32\u001b[0m         \u001b[39mreturn\u001b[39;00m [_validate_module_outputs(output) \u001b[39mfor\u001b[39;00m output \u001b[39min\u001b[39;00m outputs]\n",
      "Cell \u001b[0;32mIn[17], line 19\u001b[0m, in \u001b[0;36mGPModel.forward\u001b[0;34m(self, x)\u001b[0m\n\u001b[1;32m     17\u001b[0m mean_x \u001b[39m=\u001b[39m \u001b[39mself\u001b[39m\u001b[39m.\u001b[39mmean_module(x)\n\u001b[1;32m     18\u001b[0m covar_x \u001b[39m=\u001b[39m \u001b[39mself\u001b[39m\u001b[39m.\u001b[39mcovar_module(x)\n\u001b[0;32m---> 19\u001b[0m \u001b[39mreturn\u001b[39;00m gpytorch\u001b[39m.\u001b[39;49mdistributions\u001b[39m.\u001b[39;49mMultitaskMultivariateNormal\u001b[39m.\u001b[39;49mfrom_batch_mvn(gpytorch\u001b[39m.\u001b[39;49mdistributions\u001b[39m.\u001b[39;49mMultivariateNormal(mean_x, covar_x))\n",
      "File \u001b[0;32m~/anaconda3/envs/zhiyu39/lib/python3.9/site-packages/gpytorch/distributions/multitask_multivariate_normal.py:108\u001b[0m, in \u001b[0;36mMultitaskMultivariateNormal.from_batch_mvn\u001b[0;34m(cls, batch_mvn, task_dim)\u001b[0m\n\u001b[1;32m    106\u001b[0m task_dim \u001b[39m=\u001b[39m task_dim \u001b[39mif\u001b[39;00m task_dim \u001b[39m>\u001b[39m\u001b[39m=\u001b[39m \u001b[39m0\u001b[39m \u001b[39melse\u001b[39;00m (\u001b[39mlen\u001b[39m(batch_mvn\u001b[39m.\u001b[39mbatch_shape) \u001b[39m+\u001b[39m task_dim)\n\u001b[1;32m    107\u001b[0m \u001b[39mif\u001b[39;00m task_dim \u001b[39m<\u001b[39m \u001b[39m0\u001b[39m \u001b[39mor\u001b[39;00m task_dim \u001b[39m>\u001b[39m \u001b[39mlen\u001b[39m(batch_mvn\u001b[39m.\u001b[39mbatch_shape):\n\u001b[0;32m--> 108\u001b[0m     \u001b[39mraise\u001b[39;00m \u001b[39mValueError\u001b[39;00m(\n\u001b[1;32m    109\u001b[0m         \u001b[39mf\u001b[39m\u001b[39m\"\u001b[39m\u001b[39mtask_dim of \u001b[39m\u001b[39m{\u001b[39;00morig_task_dim\u001b[39m}\u001b[39;00m\u001b[39m is incompatible with MVN batch shape of \u001b[39m\u001b[39m{\u001b[39;00mbatch_mvn\u001b[39m.\u001b[39mbatch_shape\u001b[39m}\u001b[39;00m\u001b[39m\"\u001b[39m\n\u001b[1;32m    110\u001b[0m     )\n\u001b[1;32m    112\u001b[0m num_dim \u001b[39m=\u001b[39m batch_mvn\u001b[39m.\u001b[39mmean\u001b[39m.\u001b[39mdim()\n\u001b[1;32m    113\u001b[0m res \u001b[39m=\u001b[39m \u001b[39mcls\u001b[39m(\n\u001b[1;32m    114\u001b[0m     mean\u001b[39m=\u001b[39mbatch_mvn\u001b[39m.\u001b[39mmean\u001b[39m.\u001b[39mpermute(\u001b[39m*\u001b[39m\u001b[39mrange\u001b[39m(\u001b[39m0\u001b[39m, task_dim), \u001b[39m*\u001b[39m\u001b[39mrange\u001b[39m(task_dim \u001b[39m+\u001b[39m \u001b[39m1\u001b[39m, num_dim), task_dim),\n\u001b[1;32m    115\u001b[0m     covariance_matrix\u001b[39m=\u001b[39mBlockInterleavedLinearOperator(batch_mvn\u001b[39m.\u001b[39mlazy_covariance_matrix, block_dim\u001b[39m=\u001b[39mtask_dim),\n\u001b[1;32m    116\u001b[0m )\n",
      "\u001b[0;31mValueError\u001b[0m: task_dim of -1 is incompatible with MVN batch shape of torch.Size([])"
     ]
    }
   ],
   "source": [
    "env = gym.make('Pendulum-v1')\n",
    "horizon = 10\n",
    "n_samples = 100\n",
    "\n",
    "gp = train_gp_model(env, horizon, n_samples)\n",
    "\n",
    "# save model\n",
    "torch.save(gp.state_dict(), 'gp_model.pth')"
   ]
  },
  {
   "cell_type": "code",
   "execution_count": 16,
   "metadata": {},
   "outputs": [
    {
     "name": "stdout",
     "output_type": "stream",
     "text": [
      "1.9.1\n"
     ]
    }
   ],
   "source": [
    "print(gpytorch.__version__)"
   ]
  },
  {
   "cell_type": "code",
   "execution_count": null,
   "metadata": {},
   "outputs": [],
   "source": []
  }
 ],
 "metadata": {
  "kernelspec": {
   "display_name": "zhiyu39",
   "language": "python",
   "name": "python3"
  },
  "language_info": {
   "codemirror_mode": {
    "name": "ipython",
    "version": 3
   },
   "file_extension": ".py",
   "mimetype": "text/x-python",
   "name": "python",
   "nbconvert_exporter": "python",
   "pygments_lexer": "ipython3",
   "version": "3.9.16"
  },
  "orig_nbformat": 4,
  "vscode": {
   "interpreter": {
    "hash": "210d99c3fa445973a1a9dbd666f41525256243834c70425bd71fc0f1f877f877"
   }
  }
 },
 "nbformat": 4,
 "nbformat_minor": 2
}
